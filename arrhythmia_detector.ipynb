{
 "cells": [
  {
   "cell_type": "markdown",
   "metadata": {},
   "source": [
    "# Detecting Cardiac Arrhythmias\n",
    "\n",
    "### Training a deep neural network on ECG signals to detect cardiac arrhythmias.\n",
    "\n",
    "##### Written by Chance Alvarado: [LinkedIn](https://www.linkedin.com/in/chance-alvarado/), [GitHub](https://github.com/chance-alvarado/)\n",
    "\n",
    "##### Explore the full repository [here](https://github.com/chance-alvarado/arrhythmia-detector)."
   ]
  },
  {
   "cell_type": "markdown",
   "metadata": {},
   "source": [
    "<img src='resources/images/heart_graphic.jpg' />\n",
    "\n",
    "Image courtesy of [Pixabay](https://pixabay.com/)."
   ]
  },
  {
   "cell_type": "markdown",
   "metadata": {},
   "source": [
    "\n",
    "---\n",
    "\n",
    "## Table of Contents\n",
    "\n",
    "- [Introduction](#intro)\n",
    "    - [What is a Cardiac Arrhythmia?](#i1)\n",
    "    - [What is an ECG?](#i2)\n",
    "    - [Analysis Goals](#i3)\n",
    "- [Setup and Data Overview](#s1)\n",
    "    - [Imports](#s11)\n",
    "    - [Overview of Training and Testing Data](#s12)\n",
    "    - [Target Notation](#s13)\n",
    "    - [Previewing the Data](#s14)\n",
    "    - [Breakdown of Classes for Training Data](#s15)\n",
    "- [Signal Visualization](#s2)\n",
    "    - [Visualizing ECG Signal of a Normal Heartbeat ](#s21)\n",
    "    - [Visualizing ECG Signal of a Supraventricular Premature Beat ](#s22)\n",
    "    - [Visualizing ECG Signal of a Premature Ventricular Contraction ](#s23)\n",
    "    - [Visualizing ECG Signal of the Fusion of a Ventricular and Normal Beat](#s24)\n",
    "    - [Visualizing ECG Signals of an Unclassifiable Beat](#s25)\n",
    "    - [Trends in ECG Signals for Varying Types of Arrhythmias](#s26)\n",
    "- [Model Construction](#s3)\n",
    "    - [Data Preparation](#s31)\n",
    "    - [Training the Neural Network and Tuning Hyperparameters](#s32)\n",
    "    - [Preparing the Testing Data](#s33)\n",
    "    - [Making Predictions](#s34)\n",
    "- [Conclusions](#conclusions)\n",
    "    - [Findings](#findings)\n",
    "    - [Limitations](#limitations)\n",
    "    - [Further Research](#further)"
   ]
  },
  {
   "cell_type": "markdown",
   "metadata": {},
   "source": [
    "<a id=\"intro\"></a>\n",
    "\n",
    "## Introduction"
   ]
  },
  {
   "cell_type": "markdown",
   "metadata": {},
   "source": [
    "<a id=\"i1\"></a>\n",
    "\n",
    "### What is a Cardiac Arrhythmia?\n",
    "\n",
    "Cardiac arrhythmias occur when the electrical impulses of the heart don't function properly. This can cause your heart to beat too quick, too slow, or beat irregularly. For some this may feel like a fluttering or pain in the chest. Arrhythmias may also manifest as anxiety, fatigue, sweating, dizziness, or fainting.\n",
    "<br/><br/>\n",
    "The causes of arrhythmias varies greatly. These can range from smoking, drinking, and genetics to heat attacks, high blood pressure, and diabetes. Certain types of arrhythmias may put one at higher risk of serious medical conditions such as stroke and heart failure.\n",
    "<br/><br/>\n",
    "Preventing cardiac arrhythmias often involves adopting a heart-healthy lifestyle. This includes:\n",
    "\n",
    "- Eating a heart-healthy diet\n",
    "- Staying active and maintaining a healthy weight\n",
    "- Limiting caffeine and alcohol\n",
    "- Reducing stress\n",
    "- Carefully using certain over-the-counter medicines that can trigger arrhythmias\n",
    "<br/><br/>\n",
    "\n",
    "Information above retrieved from [Mayo Clinic](https://www.mayoclinic.org/diseases-conditions/heart-arrhythmia/symptoms-causes/syc-20350668)."
   ]
  },
  {
   "cell_type": "markdown",
   "metadata": {},
   "source": [
    "<a id=\"i2\"></a>\n",
    "\n",
    "### What is an ECG?\n",
    "\n",
    "An electrocardiogram (ECG or EKG) measures the the electrical activity of the heart. A normal heartbeat presents certain notable features in the ECG signal:\n",
    "\n",
    "- The left and right atria make the first wave, the P-wave.\n",
    "- The left and right bottom chambers make the following wave, the QRS complex.\n",
    "- Finally, the electrical recovery back to a resting state creates the final wave, the T-wave. \n",
    "<br/><br/>\n",
    "\n",
    "ECGs give medical professionals indespinsable knowledge about the function of the heart. They show the speed and regularity of the electrical activity of the heart. They may also indicate abmormalities in the features of the heart.\n",
    "\n",
    "Information above retrieved from [American Heart Association](https://www.heart.org/en/health-topics/heart-attack/diagnosing-a-heart-attack/electrocardiogram-ecg-or-ekg).\n"
   ]
  },
  {
   "cell_type": "markdown",
   "metadata": {},
   "source": [
    "##### Typical Sinus Rhythm Produced from an ECG"
   ]
  },
  {
   "cell_type": "markdown",
   "metadata": {},
   "source": [
    "<img src='resources/images/ecg.jpg' width=\"400\" height=\"20\"/>\n",
    "\n",
    "Image courtesy of [Wikipedia](https://commons.wikimedia.org/w/index.php?curid=1560893)."
   ]
  },
  {
   "cell_type": "markdown",
   "metadata": {},
   "source": [
    "<a id=\"i3\"></a>\n",
    "\n",
    "### Analysis Goals\n",
    "\n",
    "The goal of this analysis is to train a deep neural network to accurately detect cardiac arrhythmias from an ECG signal representing a single heartbeat. This model should be able to properly differentiate between a normal heartbeat and four common types of arrhythmias."
   ]
  },
  {
   "cell_type": "markdown",
   "metadata": {},
   "source": [
    "\n",
    "---\n",
    "\n",
    "<a id=\"s1\"></a>\n",
    "\n",
    "## Setup and Data Overview\n"
   ]
  },
  {
   "cell_type": "markdown",
   "metadata": {},
   "source": [
    "<a id=\"s11\"></a>\n",
    "\n",
    "### Imports\n",
    "\n",
    "The code responsible for this analysis has been refactored and split among multiple scripts found in the `resources/scripts` directory. We will primarily be using functions and classes from `arrhythmia_analysis.py`.\n",
    "\n",
    "- Further explanation on the methods used in this analysis can be found in these scripts.\n",
    "- Feel free to modify and adapt any part of these modules for your projects!"
   ]
  },
  {
   "cell_type": "code",
   "execution_count": 1,
   "metadata": {},
   "outputs": [],
   "source": [
    "from resources.scripts import arrhythmia_analysis\n",
    "\n",
    "DataProcessing = arrhythmia_analysis.DataProcessing()\n",
    "ModelEvaluation = arrhythmia_analysis.ModelEvaluation()"
   ]
  },
  {
   "cell_type": "markdown",
   "metadata": {},
   "source": [
    "<a id=\"s12\"></a>\n",
    "\n",
    "### Overview of Training and Testing Data\n",
    "\n",
    "Data necessary for this analysis is divided among two csv files and can be found in the `resources/data` directory:\n",
    "\n",
    "- `mitbih_train`\n",
    "    - This dataset contains 87553 ECG signals of a single heartbeat measured at 187 instances. Each instance notes the signal's normalized amplitude ranging between 0 and 1. The signal's respective arrhythmia type is also noted.\n",
    "    - Modified data from this dataset will be used to train and validate our neural network.\n",
    "- `mitbih_test`\n",
    "    - This dataset contains 21891 instances of ECG signals in the same fashion as `mitbih_train`.\n",
    "    - Data from this dataset will be used to validate the accuracy of our neural network.\n",
    "    \n",
    "Acknowledgements to the rights holders can be found in this project's [README](https://github.com/chance-alvarado/arrhythmia-detector/blob/master/README.md)."
   ]
  },
  {
   "cell_type": "markdown",
   "metadata": {},
   "source": [
    "<a id=\"s13\"></a>\n",
    "\n",
    "### Target Notation\n",
    "\n",
    "Our data represents varying arrhythmia types as integers ranging from 0 to 4. These values correspond to the American Heart Association's standard heartbeat notation. The standard notation and full name are as follows:\n",
    "\n",
    "- 0: **N**\n",
    "    - Normal heartbeat\n",
    "- 1: **S**\n",
    "    - Supraventricular premature beat\n",
    "- 2: **V**\n",
    "    - Premature ventricular contraction\n",
    "- 3: **F**\n",
    "    - Fusion of ventricular and normal beat\n",
    "- 4: **Q**\n",
    "    - Unclassifiable beat\n",
    "\n",
    "For consistency, we will mostly refer to the arrhythmia types by their integer value in plots and graphics."
   ]
  },
  {
   "cell_type": "markdown",
   "metadata": {},
   "source": [
    "<a id=\"s14\"></a>\n",
    "\n",
    "### Previewing the Data\n",
    "\n",
    "To get a better feel of the raw data we will be working with, we will first observe a sample DataFrames built on `mitbih_test`."
   ]
  },
  {
   "cell_type": "markdown",
   "metadata": {},
   "source": [
    "##### Relevant paths to data"
   ]
  },
  {
   "cell_type": "code",
   "execution_count": 2,
   "metadata": {},
   "outputs": [],
   "source": [
    "test_dir = 'resources/data/mitbih_test.csv'"
   ]
  },
  {
   "cell_type": "markdown",
   "metadata": {},
   "source": [
    "##### Import a sample of the testing dataset and preview"
   ]
  },
  {
   "cell_type": "code",
   "execution_count": 4,
   "metadata": {},
   "outputs": [
    {
     "data": {
      "text/html": [
       "<div>\n",
       "<style scoped>\n",
       "    .dataframe tbody tr th:only-of-type {\n",
       "        vertical-align: middle;\n",
       "    }\n",
       "\n",
       "    .dataframe tbody tr th {\n",
       "        vertical-align: top;\n",
       "    }\n",
       "\n",
       "    .dataframe thead th {\n",
       "        text-align: right;\n",
       "    }\n",
       "</style>\n",
       "<table border=\"1\" class=\"dataframe\">\n",
       "  <thead>\n",
       "    <tr style=\"text-align: right;\">\n",
       "      <th></th>\n",
       "      <th>0</th>\n",
       "      <th>1</th>\n",
       "      <th>2</th>\n",
       "      <th>3</th>\n",
       "      <th>4</th>\n",
       "      <th>5</th>\n",
       "      <th>6</th>\n",
       "      <th>7</th>\n",
       "      <th>8</th>\n",
       "      <th>9</th>\n",
       "      <th>...</th>\n",
       "      <th>178</th>\n",
       "      <th>179</th>\n",
       "      <th>180</th>\n",
       "      <th>181</th>\n",
       "      <th>182</th>\n",
       "      <th>183</th>\n",
       "      <th>184</th>\n",
       "      <th>185</th>\n",
       "      <th>186</th>\n",
       "      <th>187</th>\n",
       "    </tr>\n",
       "  </thead>\n",
       "  <tbody>\n",
       "    <tr>\n",
       "      <th>0</th>\n",
       "      <td>1.000000</td>\n",
       "      <td>0.758264</td>\n",
       "      <td>0.111570</td>\n",
       "      <td>0.000000</td>\n",
       "      <td>0.080579</td>\n",
       "      <td>0.078512</td>\n",
       "      <td>0.066116</td>\n",
       "      <td>0.049587</td>\n",
       "      <td>0.047521</td>\n",
       "      <td>0.035124</td>\n",
       "      <td>...</td>\n",
       "      <td>0</td>\n",
       "      <td>0</td>\n",
       "      <td>0</td>\n",
       "      <td>0</td>\n",
       "      <td>0</td>\n",
       "      <td>0</td>\n",
       "      <td>0</td>\n",
       "      <td>0</td>\n",
       "      <td>0</td>\n",
       "      <td>0</td>\n",
       "    </tr>\n",
       "    <tr>\n",
       "      <th>1</th>\n",
       "      <td>0.908425</td>\n",
       "      <td>0.783883</td>\n",
       "      <td>0.531136</td>\n",
       "      <td>0.362637</td>\n",
       "      <td>0.366300</td>\n",
       "      <td>0.344322</td>\n",
       "      <td>0.333333</td>\n",
       "      <td>0.307692</td>\n",
       "      <td>0.296703</td>\n",
       "      <td>0.300366</td>\n",
       "      <td>...</td>\n",
       "      <td>0</td>\n",
       "      <td>0</td>\n",
       "      <td>0</td>\n",
       "      <td>0</td>\n",
       "      <td>0</td>\n",
       "      <td>0</td>\n",
       "      <td>0</td>\n",
       "      <td>0</td>\n",
       "      <td>0</td>\n",
       "      <td>0</td>\n",
       "    </tr>\n",
       "    <tr>\n",
       "      <th>2</th>\n",
       "      <td>0.730088</td>\n",
       "      <td>0.212389</td>\n",
       "      <td>0.000000</td>\n",
       "      <td>0.119469</td>\n",
       "      <td>0.101770</td>\n",
       "      <td>0.101770</td>\n",
       "      <td>0.110619</td>\n",
       "      <td>0.123894</td>\n",
       "      <td>0.115044</td>\n",
       "      <td>0.132743</td>\n",
       "      <td>...</td>\n",
       "      <td>0</td>\n",
       "      <td>0</td>\n",
       "      <td>0</td>\n",
       "      <td>0</td>\n",
       "      <td>0</td>\n",
       "      <td>0</td>\n",
       "      <td>0</td>\n",
       "      <td>0</td>\n",
       "      <td>0</td>\n",
       "      <td>0</td>\n",
       "    </tr>\n",
       "    <tr>\n",
       "      <th>3</th>\n",
       "      <td>1.000000</td>\n",
       "      <td>0.910417</td>\n",
       "      <td>0.681250</td>\n",
       "      <td>0.472917</td>\n",
       "      <td>0.229167</td>\n",
       "      <td>0.068750</td>\n",
       "      <td>0.000000</td>\n",
       "      <td>0.004167</td>\n",
       "      <td>0.014583</td>\n",
       "      <td>0.054167</td>\n",
       "      <td>...</td>\n",
       "      <td>0</td>\n",
       "      <td>0</td>\n",
       "      <td>0</td>\n",
       "      <td>0</td>\n",
       "      <td>0</td>\n",
       "      <td>0</td>\n",
       "      <td>0</td>\n",
       "      <td>0</td>\n",
       "      <td>0</td>\n",
       "      <td>0</td>\n",
       "    </tr>\n",
       "    <tr>\n",
       "      <th>4</th>\n",
       "      <td>0.570470</td>\n",
       "      <td>0.399329</td>\n",
       "      <td>0.238255</td>\n",
       "      <td>0.147651</td>\n",
       "      <td>0.000000</td>\n",
       "      <td>0.003356</td>\n",
       "      <td>0.040268</td>\n",
       "      <td>0.080537</td>\n",
       "      <td>0.070470</td>\n",
       "      <td>0.090604</td>\n",
       "      <td>...</td>\n",
       "      <td>0</td>\n",
       "      <td>0</td>\n",
       "      <td>0</td>\n",
       "      <td>0</td>\n",
       "      <td>0</td>\n",
       "      <td>0</td>\n",
       "      <td>0</td>\n",
       "      <td>0</td>\n",
       "      <td>0</td>\n",
       "      <td>0</td>\n",
       "    </tr>\n",
       "  </tbody>\n",
       "</table>\n",
       "<p>5 rows × 188 columns</p>\n",
       "</div>"
      ],
      "text/plain": [
       "        0         1         2         3         4         5         6    \\\n",
       "0  1.000000  0.758264  0.111570  0.000000  0.080579  0.078512  0.066116   \n",
       "1  0.908425  0.783883  0.531136  0.362637  0.366300  0.344322  0.333333   \n",
       "2  0.730088  0.212389  0.000000  0.119469  0.101770  0.101770  0.110619   \n",
       "3  1.000000  0.910417  0.681250  0.472917  0.229167  0.068750  0.000000   \n",
       "4  0.570470  0.399329  0.238255  0.147651  0.000000  0.003356  0.040268   \n",
       "\n",
       "        7         8         9    ...  178  179  180  181  182  183  184  185  \\\n",
       "0  0.049587  0.047521  0.035124  ...    0    0    0    0    0    0    0    0   \n",
       "1  0.307692  0.296703  0.300366  ...    0    0    0    0    0    0    0    0   \n",
       "2  0.123894  0.115044  0.132743  ...    0    0    0    0    0    0    0    0   \n",
       "3  0.004167  0.014583  0.054167  ...    0    0    0    0    0    0    0    0   \n",
       "4  0.080537  0.070470  0.090604  ...    0    0    0    0    0    0    0    0   \n",
       "\n",
       "   186  187  \n",
       "0    0    0  \n",
       "1    0    0  \n",
       "2    0    0  \n",
       "3    0    0  \n",
       "4    0    0  \n",
       "\n",
       "[5 rows x 188 columns]"
      ]
     },
     "execution_count": 4,
     "metadata": {},
     "output_type": "execute_result"
    }
   ],
   "source": [
    "arrhythmia_analysis.sample_dataframe(test_dir).head()"
   ]
  },
  {
   "cell_type": "markdown",
   "metadata": {},
   "source": [
    "##### Discussion\n",
    "\n",
    "Our raw data's first 187 columns represent the ECG signal in question. The last column specifies the arrhythmia type in question. In this instance, our last columns are all 0s, representing normal heartbeats. We can also note many trailing zeros; this likely represents a heartbeat that concluded before the end of the standardized time duration.  "
   ]
  },
  {
   "cell_type": "markdown",
   "metadata": {},
   "source": [
    "<a id=\"s15\"></a>\n",
    "\n",
    "### Breakdown of Classes for our Training Data\n",
    "\n",
    "Let us further analyze the density of each arrhythmia type in our eventual training data. To do so, we will plot the count of each arrhythmia as a bar graph."
   ]
  },
  {
   "cell_type": "markdown",
   "metadata": {},
   "source": [
    "<img src='resources/plots/class_bar.jpg' />"
   ]
  },
  {
   "cell_type": "markdown",
   "metadata": {},
   "source": [
    "##### Discussion\n",
    "\n",
    "From this visualization we note a *severe* class imbalance. The vast majority of our data represents normal heartbeats with vary types of arrhythmias paling in comparison. This will need to be addressed later before we begin to train our model - possibly through over or under-sampling."
   ]
  },
  {
   "cell_type": "markdown",
   "metadata": {},
   "source": [
    "\n",
    "---\n",
    "\n",
    "<a id=\"s2\"></a>\n",
    "\n",
    "## Signal Visualization\n",
    "\n",
    "For details on how these and other visualizations were created please see `resources/scripts/visualization_creation.py`."
   ]
  },
  {
   "cell_type": "markdown",
   "metadata": {},
   "source": [
    "<a id=\"s21\"></a>\n",
    "\n",
    "### Visualizing ECG Signal of a Normal Heartbeat "
   ]
  },
  {
   "cell_type": "markdown",
   "metadata": {},
   "source": [
    "<img src='resources/plots/ecg_signal_0.gif' />"
   ]
  },
  {
   "cell_type": "markdown",
   "metadata": {},
   "source": [
    "##### Discussion\n",
    "\n",
    "The ECG signal for our normal heartbeat is relatively unremarkable. We are able to pick out some of the basic structures of the signal (notably the QRS complex). We also not the beat concludes about halfway through the time interval."
   ]
  },
  {
   "cell_type": "markdown",
   "metadata": {},
   "source": [
    "<a id=\"s22\"></a>\n",
    "\n",
    "### Visualizing ECG Signal of a Supraventricular Premature Beat "
   ]
  },
  {
   "cell_type": "markdown",
   "metadata": {},
   "source": [
    "<img src='resources/plots/ecg_signal_1.gif' />"
   ]
  },
  {
   "cell_type": "markdown",
   "metadata": {},
   "source": [
    "##### Discussion\n",
    "\n",
    "In this signal of a superventricular prematures beat we notes an abnormal P-wave. This is common this this type of arrhythmia. This type of arrhythmia also usually shows as a wider QRS complex but that is not imeediately obvious in this signal."
   ]
  },
  {
   "cell_type": "markdown",
   "metadata": {},
   "source": [
    "<a id=\"s23\"></a>\n",
    "\n",
    "### Visualizing ECG Signal of a Premature Ventricular Contraction "
   ]
  },
  {
   "cell_type": "markdown",
   "metadata": {},
   "source": [
    "<img src='resources/plots/ecg_signal_2.gif' />"
   ]
  },
  {
   "cell_type": "markdown",
   "metadata": {},
   "source": [
    "##### Discussion\n",
    "\n",
    "For a premature ventricular contraction there is often a large 'dip' in the signal. We can assume that this correlates to the low signal start and higher than average active signal before quickly dropping back to 0."
   ]
  },
  {
   "cell_type": "markdown",
   "metadata": {},
   "source": [
    "<a id=\"s24\"></a>\n",
    "\n",
    "### Visualizing ECG Signal of the Fusion of a Ventricular and Normal Beat "
   ]
  },
  {
   "cell_type": "markdown",
   "metadata": {},
   "source": [
    "<img src='resources/plots/ecg_signal_3.gif' />"
   ]
  },
  {
   "cell_type": "markdown",
   "metadata": {},
   "source": [
    "##### Discussion\n",
    "\n",
    "To an untrained eye there is not much strikingly different from our example of a normal heartbeat. This makes sense based on the 'fusion' aspect of the arrhythmia. We will have to wait and see if our model is able to pick up on the subtle differences in the signals."
   ]
  },
  {
   "cell_type": "markdown",
   "metadata": {},
   "source": [
    "<a id=\"s25\"></a>\n",
    "\n",
    "### Visualizing ECG Signal of an Unclassifiable Beat "
   ]
  },
  {
   "cell_type": "markdown",
   "metadata": {},
   "source": [
    "<img src='resources/plots/ecg_signal_4.gif' />"
   ]
  },
  {
   "cell_type": "markdown",
   "metadata": {},
   "source": [
    "##### Discussion\n",
    "\n",
    "This signal looks much different than our previous signals. Finding a trend in irregular and unclassifiable beats may be dificult as this label acts as sort of a catch-all for irregular heart beats."
   ]
  },
  {
   "cell_type": "markdown",
   "metadata": {},
   "source": [
    "<a id=\"s26\"></a>\n",
    "\n",
    "### Trends in ECG Signals for Varying Types of Arrhythmias\n",
    "\n",
    "To conclude our initial data exploration we will attempt to note any general trends in the signals of each arrhythmia type. We will plot 100 of each type of arrhythmia as a scatter plot of rounded amplitude versus time and overlap them.\n"
   ]
  },
  {
   "cell_type": "markdown",
   "metadata": {},
   "source": [
    "<img src='resources/plots/ecg_scatter.jpg' />"
   ]
  },
  {
   "cell_type": "markdown",
   "metadata": {},
   "source": [
    "##### Discussion\n",
    "\n",
    "- Arrhythmia Type 0:\n",
    "    - The signals of our normal heartbeats are suprisignly irregular. We do note that the bulk of our data is concentrated in the lower amplitude range.\n",
    "- Arrhythmia Type 1:\n",
    "    - Our visualization clearly highlight the elevated P-wave present in this type of arrhythmia. We also note signals not falling to zero as readily as in other arrhythmia types.\n",
    "- Arrhythmia Type 2:\n",
    "    - We note the telltale 'dip' for this type of arrhythmia clearly. However we can note that many signals in this form do not have this feature as evident. This may be difficult for our model to generalize.\n",
    "- Arrhythmia Type 3: \n",
    "    - The scatter plot of the fusion of a ventricular and normal beat perhaps has the most notable consistent form of all arrhythmias analyzed. These heartbeats seems quick with notable peaks.\n",
    "\n",
    "- Arrhythmia Type 4: \n",
    "    - We note that most of the visualized signals in this plots fall to 0 at around the same time. We are able to note a relatively distinct average upper bound on our signals as well. The pattern for 'unclassifiable' heartbeats is suprisignly consistent."
   ]
  },
  {
   "cell_type": "markdown",
   "metadata": {},
   "source": [
    "\n",
    "---\n",
    "\n",
    "<a id=\"s3\"></a>\n",
    "\n",
    "## Model Construction"
   ]
  },
  {
   "cell_type": "markdown",
   "metadata": {},
   "source": [
    "<a id=\"s31\"></a>\n",
    "\n",
    "### Data Preperation"
   ]
  },
  {
   "cell_type": "markdown",
   "metadata": {},
   "source": [
    "Before we begin training our model we will need to process our data to enhance the training process. The following processing techniques will be applied to our test data:\n",
    "\n",
    "- Under-sample our overrepresented class, the normal heartbeat. We will randomly select 20000 signals from this class. \n",
    "<br/><br/>\n",
    "- Over-sample our underrepresnted clases, all forms of arrhythmias. We will randomly duplicate signals so we have 20000 signals from each class. This leads to a total training dataset of 100000 signals and their targets.\n",
    "<br/><br/>\n",
    "- Randomly shuffle the rows of the DataFrame holding our training data so our model cannot learn from the order of the signals. \n",
    "<br/><br/>\n",
    "- Add noise to the signals. We will add random uniform noise to every signal. This will ensure that each signal our model trains on is unique in hopes of preventing overfitting.\n",
    "<br/><br/>\n",
    "- Split our DataFrame into a feature matrix of the ECG signals and a target vector of their respective arrhythmia types.\n",
    "<br/><br/>\n",
    "- One-hot encode our target vector. This changes our one-column vector to a binary matrix of five columns.\n",
    "\n",
    "To find more about the specifics of preparing our test data please see `model_training.py` and `arrhythmia_analysis.py` found in `resources/scripts`."
   ]
  },
  {
   "cell_type": "markdown",
   "metadata": {},
   "source": [
    "##### Raw Signal"
   ]
  },
  {
   "cell_type": "markdown",
   "metadata": {},
   "source": [
    "<img src='resources/plots/ecg_no_noise.jpg' />"
   ]
  },
  {
   "cell_type": "markdown",
   "metadata": {},
   "source": [
    "##### Same Signal with Random Noise Added"
   ]
  },
  {
   "cell_type": "markdown",
   "metadata": {},
   "source": [
    "<img src='resources/plots/ecg_noise.jpg' />"
   ]
  },
  {
   "cell_type": "markdown",
   "metadata": {},
   "source": [
    "##### One-hot Encoding our target vector"
   ]
  },
  {
   "cell_type": "markdown",
   "metadata": {},
   "source": [
    "$$\\begin{bmatrix} 0 \\\\ 1 \\\\ 2 \\\\ 3 \\\\ 4 \\\\ \\vdots \\end{bmatrix} \\rightarrow \\begin{bmatrix} 1&0&0&0&0 \\\\ 0&1&0&0&0 \\\\ 0&0&1&0&0 \\\\ 0&0&0&1&0 \\\\ 0&0&0&0&1 \\\\ \\vdots&\\vdots&\\vdots&\\vdots&\\vdots\\end{bmatrix}$$"
   ]
  },
  {
   "cell_type": "markdown",
   "metadata": {},
   "source": [
    "<a id=\"s32\"></a>\n",
    "\n",
    "### Training our Neural Network and Tuning Hyperparameters\n",
    "\n",
    "Now that we have a robust amount of processed data we can begin to build and train our deep neural network. We will do this through TensorFlow's Keras library.\n",
    "\n",
    "##### Structure of the Network\n",
    "\n",
    "Our deep neural network will follow the following general architecture\n",
    "\n",
    "- A dense layer using the rectified linear unit (ReLU) activation function\n",
    "- A dropout layer \n",
    "- Another dense layer using the ReLu activation function\n",
    "- A final dropout layer\n",
    "- An output layer of five nodes using the softmax activation function.\n",
    "\n",
    "##### Parameter Selection\n",
    "\n",
    "To identify the optimal architecture of our model we will test the following hyperparamters:\n",
    "\n",
    "- Weight sequence of our hidden layers:\n",
    "    - 128, 96\n",
    "    - 128, 128\n",
    "    - 216, 128\n",
    "- First dropout layer rate:\n",
    "    - 0\n",
    "    - 0.25\n",
    "    - 0.5\n",
    "- Second dropout layer rate:\n",
    "    - 0\n",
    "    - 0.25\n",
    "    - 0.5\n",
    "\n",
    "Since we are exhaustively testing these hyperparameters, we will be building and evaluating a total of 27 models and selecting the one that performs best on our validation data.\n",
    "\n",
    "##### Training Process\n",
    "\n",
    "The training of our model will follow the following process:\n",
    "\n",
    "- Select a combination of testing hyperparameters\n",
    "- Build a model with the specified layer units and dropout rates\n",
    "- Train our model until accuracy on our validation set no longer increases\n",
    "- Store the model metrics and repeat testing with the next set of hyperparameters\n",
    "- Rebuild the model with the optimized hyperparameters (based on validation accuracy) and train for 100 epochs."
   ]
  },
  {
   "cell_type": "markdown",
   "metadata": {},
   "source": [
    "##### Import the best model found from `resources/scripts/model_training.py`"
   ]
  },
  {
   "cell_type": "code",
   "execution_count": 5,
   "metadata": {},
   "outputs": [],
   "source": [
    "model = ModelEvaluation.import_best_model()"
   ]
  },
  {
   "cell_type": "markdown",
   "metadata": {},
   "source": [
    "##### Inspect the optimized hyperparameters for our model"
   ]
  },
  {
   "cell_type": "code",
   "execution_count": 6,
   "metadata": {
    "scrolled": false
   },
   "outputs": [
    {
     "name": "stdout",
     "output_type": "stream",
     "text": [
      "Input Layer Nodes: 187\n",
      "Dense Layer Nodes: 216\n",
      "Dropout Rate: 0\n",
      "Dense Layer Nodes: 128\n",
      "Dropout Rate: 0\n",
      "Dense Layer Nodes: 5\n"
     ]
    }
   ],
   "source": [
    "ModelEvaluation.best_parameters(model)"
   ]
  },
  {
   "cell_type": "markdown",
   "metadata": {},
   "source": [
    "##### Visualize our Model's Architecture"
   ]
  },
  {
   "cell_type": "markdown",
   "metadata": {},
   "source": [
    "<img src='resources/plots/model_architecture.png' />"
   ]
  },
  {
   "cell_type": "markdown",
   "metadata": {},
   "source": [
    "#### Change in Validation Accuracy and Loss during Training with Optimized Hyperparamters"
   ]
  },
  {
   "cell_type": "markdown",
   "metadata": {},
   "source": [
    "<img src='resources/plots/model_training.jpg' />"
   ]
  },
  {
   "cell_type": "markdown",
   "metadata": {},
   "source": [
    "##### Discussion\n",
    "\n",
    "We note that with our optimized hyperparameters our deep neural network quickly approaches an accuracy in the upper 90s on the validation set. After a quick drop-off the loss on our validation set steadily begins to rise."
   ]
  },
  {
   "cell_type": "markdown",
   "metadata": {},
   "source": [
    "<a id=\"s33\"></a>\n",
    "\n",
    "### Preparing our Testing Data\n",
    "\n",
    "Now that we have a deep neural network with optimized hyperparamters we can test its accuracy on our testing data. Before this, though, we will need to process our testing data into a form consistent with our training data."
   ]
  },
  {
   "cell_type": "markdown",
   "metadata": {},
   "source": [
    "##### Construct DataFrame of test data"
   ]
  },
  {
   "cell_type": "code",
   "execution_count": 7,
   "metadata": {},
   "outputs": [],
   "source": [
    "df_test = arrhythmia_analysis.create_dataframe(test_dir)"
   ]
  },
  {
   "cell_type": "markdown",
   "metadata": {},
   "source": [
    "##### Split our data into a feature matrix and target vector"
   ]
  },
  {
   "cell_type": "code",
   "execution_count": 8,
   "metadata": {},
   "outputs": [],
   "source": [
    "feature_mat_test, target_vect_test = DataProcessing.feature_target_split(df_test)"
   ]
  },
  {
   "cell_type": "markdown",
   "metadata": {},
   "source": [
    "##### One hot encode our target vector to match training samples"
   ]
  },
  {
   "cell_type": "code",
   "execution_count": 9,
   "metadata": {},
   "outputs": [],
   "source": [
    "target_vect_test_enc = DataProcessing.one_hot_encoder(target_vect_test)"
   ]
  },
  {
   "cell_type": "markdown",
   "metadata": {},
   "source": [
    "<a id=\"s34\"></a>\n",
    "\n",
    "### Making Predictions\n",
    "\n",
    "Next, we will allow our deep neural network to make predictions on the 21891 signals present in our testing data.\n",
    "\n",
    "**Note:** Due to the ineherently stochastic process of machine learning results may vary slightly from run to run."
   ]
  },
  {
   "cell_type": "markdown",
   "metadata": {},
   "source": [
    "##### Make predictions on our test data"
   ]
  },
  {
   "cell_type": "code",
   "execution_count": 10,
   "metadata": {},
   "outputs": [
    {
     "name": "stdout",
     "output_type": "stream",
     "text": [
      "Accuracy on testing data:  0.9544582366943359\n"
     ]
    }
   ],
   "source": [
    "ModelEvaluation.evaluate_model(model, feature_mat_test, target_vect_test_enc)"
   ]
  },
  {
   "cell_type": "markdown",
   "metadata": {},
   "source": [
    "##### Create and display the confusion matrix for our optimized model"
   ]
  },
  {
   "cell_type": "code",
   "execution_count": 11,
   "metadata": {},
   "outputs": [
    {
     "data": {
      "image/png": "[encoded data removed]",
      "text/plain": [
       "<Figure size 504x432 with 1 Axes>"
      ]
     },
     "metadata": {},
     "output_type": "display_data"
    }
   ],
   "source": [
    "ModelEvaluation.plot_confusion_matrix(model, feature_mat_test, target_vect_test)"
   ]
  },
  {
   "cell_type": "markdown",
   "metadata": {},
   "source": [
    "##### Discussion\n",
    "\n",
    "Our optimized deep neural network returned an accuracy on our test data of ~95%. From our confusion matrix we note that the statistically significant majority our false predictions involve classifying the signal of a normal heartbeat as an arrhythmia. In terms of medical diagnostics, this is certainly better than letting a serious arrhythmia go undetected. We also note that our model failed to learn any notable patterns on type 1 arrhythmias - supraventricular premature beats."
   ]
  },
  {
   "cell_type": "markdown",
   "metadata": {},
   "source": [
    "\n",
    "---\n",
    "\n",
    "<a id=\"conclusions\"></a>\n",
    "\n",
    "## Conclusions\n",
    "\n",
    "\n",
    "<a id=\"findings\"></a>\n",
    "\n",
    "### Findings\n",
    "\n",
    "After training our optimized deep neural network on 100000 ECG signals we were able to make accurate predictions on ~95% of our testing data. Of the incorrect prediction, the statistically significant ones were where our model classified a regular signal as that of one signifying an arrhythmia. As mentioned prior, this is certainly better than letting a serious arrhythmia go undetected. A more balanced testing dataset could yield different results, though.\n",
    "\n",
    "<a id=\"limitations\"></a>\n",
    "\n",
    "### Limitations\n",
    "\n",
    "Perhaps the most evident limitation to our data is the severe class imbalance. A higher amount of authentic training data for the underrepresented arrhythmia types could have helped our model accurately predict these on our testing data. Though this was attempted to be combated by resampling and adding noise to our signals, this does not make up to high-quality authentic data.  Modifying the number of epochs our final model trained for could possible increase performance as well. Minimal computing power prevents a a more exhaustive hyperparamter search from being completed; it is likely that a different combination of layers, nodes, and evaluation techniques would yield better performance.\n",
    "\n",
    "<a id=\"further\"></a>\n",
    "\n",
    "### Further Research\n",
    "\n",
    "Different types of neural networks could yield higher accuracies. For example, [Gregoire DC](https://www.kaggle.com/gregoiredc)'s model hosted on [Kaggle](https://www.kaggle.com/gregoiredc/arrhythmia-on-ecg-classification-using-cnn) achieved a high level of accuracy using a convolutional neural network (CNN). A long short term memory network (LSTM) have been shown to provide high accuracy on temporal and signal data such as our ECGs.\n",
    "\n",
    "---\n"
   ]
  }
 ],
 "metadata": {
  "kernelspec": {
   "display_name": "Python 3",
   "language": "python",
   "name": "python3"
  },
  "language_info": {
   "codemirror_mode": {
    "name": "ipython",
    "version": 3
   },
   "file_extension": ".py",
   "mimetype": "text/x-python",
   "name": "python",
   "nbconvert_exporter": "python",
   "pygments_lexer": "ipython3",
   "version": "3.7.4"
  },
  "varInspector": {
   "cols": {
    "lenName": 16,
    "lenType": 16,
    "lenVar": 40
   },
   "kernels_config": {
    "python": {
     "delete_cmd_postfix": "",
     "delete_cmd_prefix": "del ",
     "library": "var_list.py",
     "varRefreshCmd": "print(var_dic_list())"
    },
    "r": {
     "delete_cmd_postfix": ") ",
     "delete_cmd_prefix": "rm(",
     "library": "var_list.r",
     "varRefreshCmd": "cat(var_dic_list()) "
    }
   },
   "types_to_exclude": [
    "module",
    "function",
    "builtin_function_or_method",
    "instance",
    "_Feature"
   ],
   "window_display": false
  }
 },
 "nbformat": 4,
 "nbformat_minor": 4
}
